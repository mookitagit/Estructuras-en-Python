{
 "cells": [
  {
   "cell_type": "markdown",
   "metadata": {},
   "source": [
    "# Actividades Avanzadas: Estructuras de Datos en Python\n",
    "\n",
    "Completa los ejercicios propuestos en cada sección para reforzar el uso de estructuras de datos en Python."
   ]
  },
  {
   "cell_type": "markdown",
   "metadata": {},
   "source": [
    "## 1. Tuplas (Datos Inmutables)\n",
    "Las tuplas son útiles cuando los datos no deben cambiar."
   ]
  },
  {
   "cell_type": "markdown",
   "metadata": {},
   "source": [
    "**Ejercicio 1:** Un sensor de presión tiene coeficientes de calibración definidos como una tupla `(a, b, c)`. Crea una tupla con valores hipotéticos y usa la ecuación `P = a*x^2 + b*x + c` para calcular la presión con un valor de entrada `x = 5`."
   ]
  },
  {
   "cell_type": "code",
   "execution_count": null,
   "metadata": {},
   "outputs": [],
   "source": []
  },
  {
   "cell_type": "markdown",
   "metadata": {},
   "source": [
    "**Ejercicio 2:** Dada una tupla con las configuraciones de un ADC (`(resolución_bits, voltaje_referencia)`), extrae los valores individuales y calcula el valor de un LSB (Least Significant Bit)."
   ]
  },
  {
   "cell_type": "code",
   "execution_count": null,
   "metadata": {},
   "outputs": [],
   "source": []
  },
  {
   "cell_type": "markdown",
   "metadata": {},
   "source": [
    "## 2. Listas (Datos Dinámicos)\n",
    "Las listas permiten agregar, modificar y analizar datos."
   ]
  },
  {
   "cell_type": "markdown",
   "metadata": {},
   "source": [
    "**Ejercicio 3:** Simula la adquisición de 10 muestras de temperatura de un sensor, almacénalas en una lista y calcula el promedio de temperatura."
   ]
  },
  {
   "cell_type": "code",
   "execution_count": null,
   "metadata": {},
   "outputs": [],
   "source": []
  },
  {
   "cell_type": "markdown",
   "metadata": {},
   "source": [
    "**Ejercicio 4:** Un sensor de corriente ha registrado valores anómalos. Filtra una lista de mediciones eliminando los valores fuera del rango `10 ≤ I ≤ 50`."
   ]
  },
  {
   "cell_type": "code",
   "execution_count": null,
   "metadata": {},
   "outputs": [],
   "source": []
  },
  {
   "cell_type": "markdown",
   "metadata": {},
   "source": [
    "## 3. Diccionarios (Asociación de Datos)\n",
    "Los diccionarios permiten organizar y acceder a datos etiquetados."
   ]
  },
  {
   "cell_type": "markdown",
   "metadata": {},
   "source": [
    "**Ejercicio 5:** Crea un diccionario para almacenar información de tres sensores (`nombre`, `ubicación`, `unidad_medida`). Luego, imprime los detalles de cada sensor."
   ]
  },
  {
   "cell_type": "code",
   "execution_count": null,
   "metadata": {},
   "outputs": [],
   "source": []
  },
  {
   "cell_type": "markdown",
   "metadata": {},
   "source": [
    "**Ejercicio 6:** Dado un diccionario con lecturas de temperatura en diferentes momentos `{\"10:00 AM\": 22.5, \"10:10 AM\": 23.1, \"10:20 AM\": 22.8}`, agrega una nueva lectura y encuentra la temperatura más alta registrada."
   ]
  },
  {
   "cell_type": "code",
   "execution_count": null,
   "metadata": {},
   "outputs": [],
   "source": []
  },
  {
   "cell_type": "markdown",
   "metadata": {},
   "source": [
    "## 4. Conjuntos (Eliminación de Duplicados)\n",
    "Los conjuntos son útiles para manejar datos únicos."
   ]
  },
  {
   "cell_type": "markdown",
   "metadata": {},
   "source": [
    "**Ejercicio 7:** Un sensor ha detectado eventos en un sistema eléctrico, pero algunos están duplicados. Usa un conjunto para mantener solo eventos únicos."
   ]
  },
  {
   "cell_type": "code",
   "execution_count": null,
   "metadata": {},
   "outputs": [],
   "source": []
  },
  {
   "cell_type": "markdown",
   "metadata": {},
   "source": [
    "**Ejercicio 8:** Dados dos conjuntos con eventos detectados en dos sensores diferentes, encuentra qué eventos ocurrieron en ambos sensores."
   ]
  },
  {
   "cell_type": "code",
   "execution_count": null,
   "metadata": {},
   "outputs": [],
   "source": []
  }
 ],
 "metadata": {
  "kernelspec": {
   "display_name": "Python 3 (ipykernel)",
   "language": "python",
   "name": "python3"
  },
  "language_info": {
   "codemirror_mode": {
    "name": "ipython",
    "version": 3
   },
   "file_extension": ".py",
   "mimetype": "text/x-python",
   "name": "python",
   "nbconvert_exporter": "python",
   "pygments_lexer": "ipython3",
   "version": "3.13.2"
  }
 },
 "nbformat": 4,
 "nbformat_minor": 4
}
