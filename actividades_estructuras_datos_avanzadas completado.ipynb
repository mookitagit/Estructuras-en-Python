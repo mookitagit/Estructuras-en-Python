{
  "cells": [
    {
      "cell_type": "markdown",
      "metadata": {
        "id": "FMRtmTmfDni9"
      },
      "source": [
        "# Actividades Avanzadas: Estructuras de Datos en Python\n",
        "\n",
        "Completa los ejercicios propuestos en cada sección para reforzar el uso de estructuras de datos en Python."
      ]
    },
    {
      "cell_type": "markdown",
      "metadata": {
        "id": "24In1vcIDnjA"
      },
      "source": [
        "## 1. Tuplas (Datos Inmutables)\n",
        "Las tuplas son útiles cuando los datos no deben cambiar."
      ]
    },
    {
      "cell_type": "markdown",
      "metadata": {
        "id": "w2WpvXp0DnjB"
      },
      "source": [
        "**Ejercicio 1:** Un sensor de presión tiene coeficientes de calibración definidos como una tupla `(a, b, c)`. Crea una tupla con valores hipotéticos y usa la ecuación `P = a*x^2 + b*x + c` para calcular la presión con un valor de entrada `x = 5`."
      ]
    },
    {
      "cell_type": "code",
      "execution_count": null,
      "metadata": {
        "colab": {
          "base_uri": "https://localhost:8080/"
        },
        "id": "uIX8uedjDnjB",
        "outputId": "4d96a888-0598-4666-fc27-2babb3ef76ce"
      },
      "outputs": [
        {
          "output_type": "stream",
          "name": "stdout",
          "text": [
            "La presión calculada es: 66\n"
          ]
        }
      ],
      "source": [
        "# Creamos una tupla con los coeficientes a, b, c\n",
        "coeficientes = (2, 3, 1)  # a = 2, b = 3, c = 1\n",
        "\n",
        "# Valor de entrada\n",
        "x = 5\n",
        "\n",
        "# Desempaquetamos los valores de la tupla\n",
        "a, b, c = coeficientes\n",
        "\n",
        "# Calculamos la presión con la fórmula: P = a*x^2 + b*x + c\n",
        "P = a * x**2 + b * x + c\n",
        "\n",
        "# Mostramos el resultado\n",
        "print(f\"La presión calculada es: {P}\")\n"
      ]
    },
    {
      "cell_type": "markdown",
      "metadata": {
        "id": "DUgSvznxDnjB"
      },
      "source": [
        "**Ejercicio 2:** Dada una tupla con las configuraciones de un ADC (`(resolución_bits, voltaje_referencia)`), extrae los valores individuales y calcula el valor de un LSB (Least Significant Bit)."
      ]
    },
    {
      "cell_type": "code",
      "execution_count": null,
      "metadata": {
        "colab": {
          "base_uri": "https://localhost:8080/"
        },
        "id": "fDhB8yaUDnjC",
        "outputId": "18d7b047-6e6f-432f-a934-daf37229f0a1"
      },
      "outputs": [
        {
          "output_type": "stream",
          "name": "stdout",
          "text": [
            "Resolución: 10 bits\n",
            "Voltaje de referencia: 5.0 V\n",
            "Valor del LSB: 0.004883 V\n"
          ]
        }
      ],
      "source": [
        "# Tupla con configuración del ADC: (resolución en bits, voltaje de referencia en voltios)\n",
        "adc_config = (10, 5.0)\n",
        "\n",
        "# Desempaquetamos los valores\n",
        "resolucion_bits, voltaje_referencia = adc_config\n",
        "\n",
        "# Calculamos el valor del LSB\n",
        "lsb = voltaje_referencia / (2 ** resolucion_bits)\n",
        "\n",
        "# Mostramos el resultado\n",
        "print(f\"Resolución: {resolucion_bits} bits\")\n",
        "print(f\"Voltaje de referencia: {voltaje_referencia} V\")\n",
        "print(f\"Valor del LSB: {lsb:.6f} V\")  # Seis decimales para mayor precisión\n"
      ]
    },
    {
      "cell_type": "markdown",
      "metadata": {
        "id": "szjLjD1sDnjC"
      },
      "source": [
        "## 2. Listas (Datos Dinámicos)\n",
        "Las listas permiten agregar, modificar y analizar datos."
      ]
    },
    {
      "cell_type": "markdown",
      "metadata": {
        "id": "nV6hW07tDnjC"
      },
      "source": [
        "**Ejercicio 3:** Simula la adquisición de 10 muestras de temperatura de un sensor, almacénalas en una lista y calcula el promedio de temperatura."
      ]
    },
    {
      "cell_type": "code",
      "execution_count": 1,
      "metadata": {
        "colab": {
          "base_uri": "https://localhost:8080/"
        },
        "id": "l4LTpbTkDnjC",
        "outputId": "163a1e47-237f-4edf-a4d1-4b111ea6614a"
      },
      "outputs": [
        {
          "output_type": "stream",
          "name": "stdout",
          "text": [
            "Muestras de temperatura: [29.66, 23.78, 22.89, 20.67, 25.8, 25.6, 28.33, 29.6, 28.03, 24.7]\n",
            "Promedio de temperatura: 25.91 °C\n"
          ]
        }
      ],
      "source": [
        "import random  # Para generar números aleatorios\n",
        "\n",
        "# Lista vacía para guardar las muestras\n",
        "temperaturas = []\n",
        "\n",
        "# Simulamos la adquisición de 10 muestras\n",
        "for _ in range(10):\n",
        "    # Generamos una temperatura aleatoria entre 20.0 y 30.0 grados\n",
        "    temp = round(random.uniform(20.0, 30.0), 2)  # 2 decimales\n",
        "    temperaturas.append(temp)\n",
        "\n",
        "# Mostramos las muestras\n",
        "print(\"Muestras de temperatura:\", temperaturas)\n",
        "\n",
        "# Calculamos el promedio\n",
        "promedio = sum(temperaturas) / len(temperaturas)\n",
        "\n",
        "# Mostramos el promedio\n",
        "print(f\"Promedio de temperatura: {promedio:.2f} °C\")\n"
      ]
    },
    {
      "cell_type": "markdown",
      "metadata": {
        "id": "1T8Rx6d6DnjC"
      },
      "source": [
        "**Ejercicio 4:** Un sensor de corriente ha registrado valores anómalos. Filtra una lista de mediciones eliminando los valores fuera del rango `10 ≤ I ≤ 50`."
      ]
    },
    {
      "cell_type": "code",
      "execution_count": null,
      "metadata": {
        "colab": {
          "base_uri": "https://localhost:8080/"
        },
        "id": "fR_syVfXDnjC",
        "outputId": "952b5205-ed26-4302-a59a-06c81b2cc406"
      },
      "outputs": [
        {
          "output_type": "stream",
          "name": "stdout",
          "text": [
            "Mediciones originales: [5, 12, 47, 53, 25, 8, 50, 49, 3, 60]\n",
            "Mediciones válidas (entre 10 y 50): [12, 47, 25, 50, 49]\n"
          ]
        }
      ],
      "source": [
        "# Lista original con mediciones (algunas fuera del rango válido)\n",
        "mediciones = [5, 12, 47, 53, 25, 8, 50, 49, 3, 60]\n",
        "\n",
        "# Usamos una lista por comprensión para filtrar valores válidos (entre 10 y 50 inclusive)\n",
        "mediciones_filtradas = [i for i in mediciones if 10 <= i <= 50]\n",
        "\n",
        "# Mostramos los resultados\n",
        "print(\"Mediciones originales:\", mediciones)\n",
        "print(\"Mediciones válidas (entre 10 y 50):\", mediciones_filtradas)\n"
      ]
    },
    {
      "cell_type": "markdown",
      "metadata": {
        "id": "bnZXpn6gDnjC"
      },
      "source": [
        "## 3. Diccionarios (Asociación de Datos)\n",
        "Los diccionarios permiten organizar y acceder a datos etiquetados."
      ]
    },
    {
      "cell_type": "markdown",
      "metadata": {
        "id": "gF-ASnl5DnjC"
      },
      "source": [
        "**Ejercicio 5:** Crea un diccionario para almacenar información de tres sensores (`nombre`, `ubicación`, `unidad_medida`). Luego, imprime los detalles de cada sensor."
      ]
    },
    {
      "cell_type": "code",
      "execution_count": 2,
      "metadata": {
        "id": "JX4JEYD3DnjC",
        "colab": {
          "base_uri": "https://localhost:8080/"
        },
        "outputId": "c7cb3432-0f64-4aaf-e0b7-9966d4a2a659"
      },
      "outputs": [
        {
          "output_type": "stream",
          "name": "stdout",
          "text": [
            "sensor_1:\n",
            "  Nombre         : Temperatura\n",
            "  Ubicación      : Sala A\n",
            "  Unidad de medida: °C\n",
            "\n",
            "sensor_2:\n",
            "  Nombre         : Humedad\n",
            "  Ubicación      : Sala B\n",
            "  Unidad de medida: %\n",
            "\n",
            "sensor_3:\n",
            "  Nombre         : Presión\n",
            "  Ubicación      : Laboratorio\n",
            "  Unidad de medida: Pa\n",
            "\n"
          ]
        }
      ],
      "source": [
        "# Creamos un diccionario donde cada clave representa un sensor\n",
        "sensores = {\n",
        "    \"sensor_1\": {\n",
        "        \"nombre\": \"Temperatura\",\n",
        "        \"ubicación\": \"Sala A\",\n",
        "        \"unidad_medida\": \"°C\"\n",
        "    },\n",
        "    \"sensor_2\": {\n",
        "        \"nombre\": \"Humedad\",\n",
        "        \"ubicación\": \"Sala B\",\n",
        "        \"unidad_medida\": \"%\"\n",
        "    },\n",
        "    \"sensor_3\": {\n",
        "        \"nombre\": \"Presión\",\n",
        "        \"ubicación\": \"Laboratorio\",\n",
        "        \"unidad_medida\": \"Pa\"\n",
        "    }\n",
        "}\n",
        "\n",
        "# Recorremos el diccionario para imprimir los detalles\n",
        "for clave, info in sensores.items():\n",
        "    print(f\"{clave}:\")\n",
        "    print(f\"  Nombre         : {info['nombre']}\")\n",
        "    print(f\"  Ubicación      : {info['ubicación']}\")\n",
        "    print(f\"  Unidad de medida: {info['unidad_medida']}\")\n",
        "    print()  # Línea en blanco entre sensores\n"
      ]
    },
    {
      "cell_type": "markdown",
      "metadata": {
        "id": "TxHoHPgwDnjC"
      },
      "source": [
        "**Ejercicio 6:** Dado un diccionario con lecturas de temperatura en diferentes momentos `{\"10:00 AM\": 22.5, \"10:10 AM\": 23.1, \"10:20 AM\": 22.8}`, agrega una nueva lectura y encuentra la temperatura más alta registrada."
      ]
    },
    {
      "cell_type": "code",
      "execution_count": 5,
      "metadata": {
        "id": "DcstqxsTDnjC",
        "colab": {
          "base_uri": "https://localhost:8080/"
        },
        "outputId": "9939db98-972d-4957-ec67-07ba0422137c"
      },
      "outputs": [
        {
          "output_type": "stream",
          "name": "stdout",
          "text": [
            "La temperatura mas alta fue 23.8 a las 10:30 AM\n"
          ]
        }
      ],
      "source": [
        "lecturas={\n",
        "    \"10:00 AM\": 22.5,\n",
        "    \"10:10 AM\": 23.1,\n",
        "    \"10:20 AM\": 22.8\n",
        "\n",
        "}\n",
        "lecturas.update({\"10:30 AM\": 23.8})\n",
        "temperatura_maxima=max(lecturas,key=lecturas.get)\n",
        "print(f\"La temperatura mas alta fue {lecturas[temperatura_maxima]} a las {temperatura_maxima}\")"
      ]
    },
    {
      "cell_type": "markdown",
      "metadata": {
        "id": "rJKv9s5yDnjC"
      },
      "source": [
        "## 4. Conjuntos (Eliminación de Duplicados)\n",
        "Los conjuntos son útiles para manejar datos únicos."
      ]
    },
    {
      "cell_type": "markdown",
      "metadata": {
        "id": "7Ll0nI4rDnjD"
      },
      "source": [
        "**Ejercicio 7:** Un sensor ha detectado eventos en un sistema eléctrico, pero algunos están duplicados. Usa un conjunto para mantener solo eventos únicos."
      ]
    },
    {
      "cell_type": "code",
      "execution_count": 7,
      "metadata": {
        "id": "wKb_eaT3DnjD",
        "colab": {
          "base_uri": "https://localhost:8080/"
        },
        "outputId": "b479e87a-f9cd-4d3c-f099-10dbda4a6f7c"
      },
      "outputs": [
        {
          "output_type": "stream",
          "name": "stdout",
          "text": [
            "[1, 2, 3, 4, 5, 6, 6, 2, 1]\n",
            "{1, 2, 3, 4, 5, 6} dantos unicos\n"
          ]
        }
      ],
      "source": [
        "datos = [1,2,3,4,5,6,6,2,1]\n",
        "dantosunicos = set(datos)\n",
        "print(datos)\n",
        "print(dantosunicos,\"dantos unicos\")"
      ]
    },
    {
      "cell_type": "markdown",
      "metadata": {
        "id": "h3y0xmWtDnjD"
      },
      "source": [
        "**Ejercicio 8:** Dados dos conjuntos con eventos detectados en dos sensores diferentes, encuentra qué eventos ocurrieron en ambos sensores."
      ]
    },
    {
      "cell_type": "code",
      "execution_count": 8,
      "metadata": {
        "id": "31tDPfbQDnjD",
        "colab": {
          "base_uri": "https://localhost:8080/"
        },
        "outputId": "37e5e9c1-1c3e-4811-d596-66985e779089"
      },
      "outputs": [
        {
          "output_type": "stream",
          "name": "stdout",
          "text": [
            "los datos unicos son: {8, 9, 10}\n"
          ]
        }
      ],
      "source": [
        "datos1 =[1,2,3,4,5,6,7,8,9,10]\n",
        "datos2 =[8,9,10,11,12,13,14]\n",
        "datosunicos1 = set(datos1)\n",
        "datosunicos2 = set(datos2)\n",
        "datosambossensores = datosunicos1 & datosunicos2\n",
        "print(\"los datos unicos son:\", datosambossensores)"
      ]
    }
  ],
  "metadata": {
    "kernelspec": {
      "display_name": "Python 3 (ipykernel)",
      "language": "python",
      "name": "python3"
    },
    "language_info": {
      "codemirror_mode": {
        "name": "ipython",
        "version": 3
      },
      "file_extension": ".py",
      "mimetype": "text/x-python",
      "name": "python",
      "nbconvert_exporter": "python",
      "pygments_lexer": "ipython3",
      "version": "3.13.2"
    },
    "colab": {
      "provenance": []
    }
  },
  "nbformat": 4,
  "nbformat_minor": 0
}